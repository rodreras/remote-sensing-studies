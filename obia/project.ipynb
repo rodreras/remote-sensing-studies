{
 "cells": [
  {
   "cell_type": "markdown",
   "id": "94ecc9e8",
   "metadata": {},
   "source": [
    "# Using OBIA for estimating area of Solar Panels in Spain\n",
    "\n",
    "Using STAC, I am going to download imagery, segment the solar panels and estimate the area they occupy in the fields."
   ]
  },
  {
   "cell_type": "code",
   "execution_count": null,
   "id": "38fdfd04",
   "metadata": {},
   "outputs": [],
   "source": [
    "import pandas as pd\n",
    "import numpy as np\n",
    "import geopandas as gpd\n",
    "\n",
    "import matplotlib.pyplot as plt\n",
    "import seaborn as sns\n",
    "\n",
    "import rasterio as rio\n",
    "import xarray as xr\n",
    "import rioxarray\n",
    "\n",
    "import dask.array as da # handle dask arrays\n",
    "from IPython.display import Image # visualize URLs\n",
    "import pystac_client # connecting to the STAC API\n",
    "from rasterio.enums import Resampling # perform re-sampling operations\n",
    "import shapely # create vector objects\n",
    "import stackstac # build an on-demand STAC data cube\n",
    "from skimage.color import label2rgb\n",
    "\n",
    "from src.utils import stretch_histogram, normalize\n",
    "from src.indices import ndvi_calc, ndbi_calc\n"
   ]
  },
  {
   "cell_type": "code",
   "execution_count": null,
   "id": "262bd1ea",
   "metadata": {},
   "outputs": [],
   "source": [
    "api_url = 'https://earth-search.aws.element84.com/v1'\n",
    "client = pystac_client.Client.open(api_url)\n",
    "for collection in client.get_collections():\n",
    "    print(collection)"
   ]
  },
  {
   "cell_type": "code",
   "execution_count": null,
   "id": "ff251583",
   "metadata": {},
   "outputs": [],
   "source": [
    "shapely.__version__"
   ]
  },
  {
   "cell_type": "code",
   "execution_count": null,
   "id": "10151825",
   "metadata": {},
   "outputs": [],
   "source": [
    "collection = 'sentinel-2-l2a'\n",
    "\n",
    "#coordinates \n",
    "lat = 37.364\n",
    "lon = -6.923\n",
    "point = shapely.geometry.Point(lon, lat)\n",
    "date_range = '2025-04-01/2025-05-16'"
   ]
  },
  {
   "cell_type": "code",
   "execution_count": null,
   "id": "0b7784d2",
   "metadata": {},
   "outputs": [],
   "source": [
    "search = client.search(\n",
    "    collections = [collection],\n",
    "    intersects=point,\n",
    "    datetime=date_range,\n",
    "    query = ['eo:cloud_cover<10']\n",
    ")\n",
    "\n",
    "items = search.item_collection()\n",
    "len(items)"
   ]
  },
  {
   "cell_type": "code",
   "execution_count": null,
   "id": "96f65294",
   "metadata": {},
   "outputs": [],
   "source": [
    "item_df = gpd.GeoDataFrame.from_features(items.to_dict(), crs = 'EPSG:4326')\n",
    "item_df "
   ]
  },
  {
   "cell_type": "code",
   "execution_count": null,
   "id": "cae480e6",
   "metadata": {},
   "outputs": [],
   "source": [
    "item_df['s2:nodata_pixel_percentage']"
   ]
  },
  {
   "cell_type": "code",
   "execution_count": null,
   "id": "244df130",
   "metadata": {},
   "outputs": [],
   "source": [
    "item_df.explore()"
   ]
  },
  {
   "cell_type": "code",
   "execution_count": null,
   "id": "b0eb3572",
   "metadata": {},
   "outputs": [],
   "source": [
    "ids = item_df.loc[\n",
    "  (item_df['eo:cloud_cover'] <= 5) &\n",
    "  (item_df['s2:nodata_pixel_percentage'] <= 4.1)\n",
    "]\n",
    "\n",
    "item = items[ids.index[0]]\n",
    "item.datetime"
   ]
  },
  {
   "cell_type": "code",
   "execution_count": null,
   "id": "99ae6bb8",
   "metadata": {},
   "outputs": [],
   "source": [
    "aoi = gpd.read_file('solar_aoi.json')\n",
    "bbox = aoi.total_bounds\n",
    "aoi.explore()"
   ]
  },
  {
   "cell_type": "code",
   "execution_count": null,
   "id": "3171cfd3",
   "metadata": {},
   "outputs": [],
   "source": [
    "thumbnail = item.assets[\"thumbnail\"].href\n",
    "Image(url = thumbnail)"
   ]
  },
  {
   "cell_type": "code",
   "execution_count": null,
   "id": "56eed1bd",
   "metadata": {},
   "outputs": [],
   "source": [
    "assets = [\"red\",\"green\",\"blue\",\"nir\", 'swir16', \"scl\"]\n",
    "cube_all = stackstac.stack(\n",
    "    item, \n",
    "    assets, \n",
    "    bounds_latlon = bbox, \n",
    "    epsg=32629\n",
    "    )\n",
    "scl = cube_all.sel(band=[\"scl\"])\n",
    "s2_mask = da.isin(scl, [3,8,9])\n",
    "cube = cube_all.where(~s2_mask)\n",
    "cube = cube.to_dataset(dim = 'band')"
   ]
  },
  {
   "cell_type": "code",
   "execution_count": null,
   "id": "7dd52c88",
   "metadata": {},
   "outputs": [],
   "source": [
    "cube"
   ]
  },
  {
   "cell_type": "code",
   "execution_count": null,
   "id": "22acd9b4",
   "metadata": {},
   "outputs": [],
   "source": [
    "rgb = np.dstack((\n",
    "    normalize(cube['red'][0,:,:]),\n",
    "    normalize(cube['green'][0,:,:]),\n",
    "    normalize(cube['blue'][0,:,:])\n",
    "    )\n",
    ")\n",
    "plt.imshow(rgb)\n",
    "plt.axis('off')\n",
    "plt.show()"
   ]
  },
  {
   "cell_type": "code",
   "execution_count": null,
   "id": "6669162e",
   "metadata": {},
   "outputs": [],
   "source": [
    "#calculate NDVI\n",
    "ndvi = ndvi_calc(\n",
    "    normalize(cube.red), \n",
    "    normalize(cube.nir)\n",
    "    )\n",
    "\n",
    "plt.imshow(ndvi[0,:, :], cmap = 'RdYlGn', vmin = -0.8, vmax = 0.8)\n",
    "plt.colorbar()\n",
    "plt.axis('off')\n",
    "plt.show()"
   ]
  },
  {
   "cell_type": "code",
   "execution_count": null,
   "id": "052a2134",
   "metadata": {},
   "outputs": [],
   "source": [
    "#Adding NDVI to the datacube\n",
    "cube['ndvi'] = ndvi"
   ]
  },
  {
   "cell_type": "code",
   "execution_count": null,
   "id": "c25a4bb8",
   "metadata": {},
   "outputs": [],
   "source": [
    "agriculture = np.dstack((\n",
    "    normalize(cube.swir16[0, ...]),\n",
    "    normalize(cube.nir[0, ...]),\n",
    "    normalize(cube.blue[0, ...])\n",
    "))"
   ]
  },
  {
   "cell_type": "code",
   "execution_count": null,
   "id": "d041c1a8",
   "metadata": {},
   "outputs": [],
   "source": [
    "fig, ax = plt.subplots(nrows = 1, ncols = 3, figsize=(15,8))\n",
    "\n",
    "\n",
    "ax[0].imshow(rgb)\n",
    "ax[0].set_title('RGB Composition')\n",
    "\n",
    "#NDVI Plot\n",
    "im = ax[1].imshow(cube.ndvi[0,...], cmap ='RdYlGn', vmin = -0.2, vmax = 0.8)\n",
    "ax[1].set_title('NDVI')\n",
    "fig.colorbar(im, ax=ax[1], fraction=0.046, pad=0.04)\n",
    "\n",
    "#Agriculture Plot\n",
    "ax[2].imshow(agriculture)\n",
    "ax[2].set_title('Agriculture Composition')\n",
    "\n",
    "for axis in ax:\n",
    "    axis.set_axis_off()\n",
    "\n",
    "plt.tight_layout()\n",
    "#plt.savefig('solar_panels.png', dpi = 300)\n",
    "\n",
    "plt.show()\n"
   ]
  },
  {
   "cell_type": "markdown",
   "id": "152c67a8",
   "metadata": {},
   "source": [
    "# Image Segmentation"
   ]
  },
  {
   "cell_type": "code",
   "execution_count": null,
   "id": "2175ec67",
   "metadata": {},
   "outputs": [],
   "source": [
    "from skimage import util\n",
    "from skimage.segmentation import mark_boundaries, slic\n",
    "\n",
    "n_segments = 1000\n",
    "compactness = 8\n",
    "\n",
    "segments = slic(rgb, n_segments=n_segments, compactness=compactness, start_label=1)"
   ]
  },
  {
   "cell_type": "code",
   "execution_count": null,
   "id": "1c105b4e",
   "metadata": {},
   "outputs": [],
   "source": [
    "ndvi = cube.ndvi[0,...].to_numpy()\n",
    "\n",
    "fig, ax = plt.subplots(nrows = 1, ncols=3, figsize = (15,10))\n",
    "\n",
    "ax[0].imshow(cube.ndvi[0,...], cmap=\"RdYlGn\", vmin = -0.2, vmax = 0.8)\n",
    "ax[0].set_title('NDVI Image')\n",
    "\n",
    "ax[1].imshow(label2rgb(segments, ndvi, kind='avg'), cmap=\"RdYlGn\")\n",
    "ax[1].set_title('Average NDVI for cell')\n",
    "\n",
    "ax[2].imshow(mark_boundaries(\n",
    "    ndvi, segments, color = (0,1,1), mode = \"thick\"\n",
    "    ), vmin = -0.2, \n",
    "    vmax = 0.8, \n",
    "    cmap = 'RdYlGn'\n",
    ")\n",
    "ax[2].set_title(f\"SLIC Segmentation - {n_segments} segments\")\n",
    "\n",
    "plt.tight_layout()\n",
    "plt.show()  "
   ]
  },
  {
   "cell_type": "code",
   "execution_count": null,
   "id": "dc958223",
   "metadata": {},
   "outputs": [],
   "source": [
    "#273 x 277 x 1\n",
    "np.transpose(cube.red.to_numpy(), (1,2,0)).shape"
   ]
  },
  {
   "cell_type": "code",
   "execution_count": null,
   "id": "351550eb",
   "metadata": {},
   "outputs": [],
   "source": [
    "red_band = cube.red[0,...].to_numpy() # Shape: (273, 277)\n",
    "blue_band = cube.blue[0,...].to_numpy() # Shape: (273, 277)\n",
    "green_band = cube.green[0,...].to_numpy() # Shape: (273, 277)\n",
    "nir_band = cube.nir[0,...].to_numpy() # Shape: (273, 277)\n",
    "swir16_band = cube.swir16[0,...].to_numpy() # Shape: (273, 277)\n",
    "ndvi_band = cube.ndvi[0,...].to_numpy() # Shape: (273, 277)\n",
    "\n",
    "class_stack = np.stack([\n",
    "    red_band,\n",
    "    blue_band,\n",
    "    green_band,\n",
    "    nir_band,\n",
    "    ndvi_band\n",
    "], axis=-1)"
   ]
  },
  {
   "cell_type": "code",
   "execution_count": null,
   "id": "bf3f10bd",
   "metadata": {},
   "outputs": [],
   "source": [
    "print(f\"Shape of segments before calc_all_feats: {segments.shape}\")\n",
    "print(f\"Dtype of segments before calc_all_feats: {segments.dtype}\")\n",
    "print(f'Class Stack Shape: {class_stack.shape}')"
   ]
  },
  {
   "cell_type": "code",
   "execution_count": null,
   "id": "a02752ac",
   "metadata": {},
   "outputs": [],
   "source": [
    "from src.obia import calc_all_feats, std, entropy_ndvi, rectangularity, compactness\n",
    "from skimage.measure import regionprops_table, perimeter\n",
    "\n",
    "spectral_feats = pd.DataFrame(\n",
    "        regionprops_table(\n",
    "            label_image = segments,\n",
    "            intensity_image = class_stack,\n",
    "            properties = [\"label\", \"intensity_mean\"],\n",
    "            extra_properties=(std,)\n",
    "        )\n",
    "    )\n",
    "shape_feats = pd.DataFrame(\n",
    "    regionprops_table(\n",
    "        label_image = segments,\n",
    "        properties = [\"solidity\"],\n",
    "        extra_properties=(rectangularity, compactness)\n",
    "    )\n",
    ")\n",
    "\n",
    "textural_feats = pd.DataFrame(\n",
    "    regionprops_table(\n",
    "        label_image = segments,\n",
    "        intensity_image =class_stack[:, :, -1],  # Use only the NDVI band\n",
    "        properties = [],\n",
    "        extra_properties=(entropy_ndvi,)\n",
    "    )\n",
    ")\n",
    "\n",
    "all_feats = pd.concat([spectral_feats, shape_feats, textural_feats], axis=1)\n"
   ]
  },
  {
   "cell_type": "code",
   "execution_count": null,
   "id": "82756c1e",
   "metadata": {},
   "outputs": [],
   "source": [
    "all_feats"
   ]
  },
  {
   "cell_type": "markdown",
   "id": "53e4cd56",
   "metadata": {},
   "source": [
    "# Train - Test"
   ]
  },
  {
   "cell_type": "code",
   "execution_count": null,
   "id": "4b540c1b",
   "metadata": {},
   "outputs": [],
   "source": [
    "import leafmap.leafmap as leafmap\n",
    "from sklearn.ensemble import RandomForestClassifier\n",
    "from rasterio import features"
   ]
  },
  {
   "cell_type": "code",
   "execution_count": null,
   "id": "529e46bc",
   "metadata": {},
   "outputs": [],
   "source": [
    "cube.crs"
   ]
  },
  {
   "cell_type": "code",
   "execution_count": null,
   "id": "f5bd5182",
   "metadata": {},
   "outputs": [],
   "source": [
    "#Transforming the segments to geopandas polygons\n",
    "segments_int = segments.astype('uint16')\n",
    "find_shapes = features.shapes(segments_int, transform=cube.transform)\n",
    "\n",
    "geoms_and_ids = [\n",
    "    (shapely.geometry.shape(geom), value) for geom, value in features.shapes(segments_int, transform=cube.transform)\n",
    "    ]\n",
    "\n",
    "# Unzip into separate lists\n",
    "polygons, segment_ids = zip(*geoms_and_ids)\n",
    "\n",
    "crs = {'init': cube.crs}\n",
    "\n",
    "my_gdf = gpd.GeoDataFrame({'segment_ids': segment_ids, 'geometry':polygons}, crs=crs)\n",
    "\n",
    "my_gdf.head()"
   ]
  },
  {
   "cell_type": "code",
   "execution_count": null,
   "id": "9a67ae2d",
   "metadata": {},
   "outputs": [],
   "source": [
    "# adding array to image in Leafmap\n",
    "\n",
    "array_rgb = leafmap.array_to_image(rgb, crs = cube.crs, cellsize = 10)"
   ]
  },
  {
   "cell_type": "code",
   "execution_count": null,
   "id": "4bb14220",
   "metadata": {},
   "outputs": [],
   "source": [
    "m = leafmap.Map()\n",
    "\n",
    "m.add_gdf(my_gdf, layer_name=\"SLIC Segments\")\n",
    "m.add_raster(array_rgb)"
   ]
  },
  {
   "cell_type": "code",
   "execution_count": null,
   "id": "84e59fc0",
   "metadata": {},
   "outputs": [],
   "source": []
  }
 ],
 "metadata": {
  "kernelspec": {
   "display_name": "spatialenv",
   "language": "python",
   "name": "python3"
  },
  "language_info": {
   "codemirror_mode": {
    "name": "ipython",
    "version": 3
   },
   "file_extension": ".py",
   "mimetype": "text/x-python",
   "name": "python",
   "nbconvert_exporter": "python",
   "pygments_lexer": "ipython3",
   "version": "3.9.18"
  }
 },
 "nbformat": 4,
 "nbformat_minor": 5
}
